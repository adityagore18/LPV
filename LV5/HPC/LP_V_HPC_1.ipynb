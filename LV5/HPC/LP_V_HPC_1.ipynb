{
  "nbformat": 4,
  "nbformat_minor": 0,
  "metadata": {
    "colab": {
      "provenance": []
    },
    "kernelspec": {
      "name": "python3",
      "display_name": "Python 3"
    },
    "language_info": {
      "name": "python"
    }
  },
  "cells": [
    {
      "cell_type": "code",
      "execution_count": null,
      "metadata": {
        "colab": {
          "base_uri": "https://localhost:8080/"
        },
        "id": "77Sv6GqCHCmW",
        "outputId": "d14317a0-f85d-4a8a-f58c-db58bcb098b9"
      },
      "outputs": [
        {
          "output_type": "stream",
          "name": "stdout",
          "text": [
            "Overwriting main.cpp\n"
          ]
        }
      ],
      "source": [
        "%%writefile main.cpp\n",
        "#include<iostream>\n",
        "#include<vector>\n",
        "#include<queue>\n",
        "#include<stack>\n",
        "#include<omp.h>\n",
        "\n",
        "using namespace std;\n",
        "\n",
        "class Graph{\n",
        "   int v;\n",
        "   vector<vector<int>> adj;\n",
        "   public :\n",
        "   Graph(int v):v(v),adj(v){}\n",
        "\n",
        "   void addEdge(int i,int j){\n",
        "      adj[i].push_back(j);\n",
        "      adj[j].push_back(i);\n",
        "   }\n",
        "   void parallelDFs(int startVertex){\n",
        "    vector<bool> visited(v);\n",
        "    recurr(startVertex,visited);\n",
        "\n",
        "   }\n",
        "\n",
        "\n",
        "   void recurr(int v ,vector<bool> &visited){\n",
        "    visited[v]=true;\n",
        "    cout<<v<<\"\\t\";\n",
        "    #pragma omp parallel for\n",
        "    for(int i=0;i<adj[v].size();i++){\n",
        "      int n=adj[v][i];\n",
        "      if(!visited[n]){\n",
        "        recurr(n,visited);\n",
        "      }\n",
        "    }\n",
        "   }\n",
        "\n",
        "   void parallelBFS(int startVertex){\n",
        "    vector<bool> visited(v);\n",
        "    queue<int> q;\n",
        "    visited[startVertex]=true;\n",
        "    q.push(startVertex);\n",
        "    while(!q.empty()){\n",
        "      int v=q.front();\n",
        "      q.pop();\n",
        "      cout<<v<<\"\\t\";\n",
        "      #pragma omp parallel for\n",
        "      for(int i=0;i<adj[v].size();i++){\n",
        "        int n=adj[v][i];\n",
        "        if(!visited[n]){\n",
        "          visited[n]=true;\n",
        "          q.push(n);\n",
        "       }\n",
        "      }\n",
        "    }\n",
        "   }\n",
        "\n",
        "};\n",
        "\n",
        "int main(){\n",
        "  Graph g(7);\n",
        "  g.addEdge(0,1);\n",
        "  g.addEdge(0,2);\n",
        "  g.addEdge(1,3);\n",
        "  g.addEdge(1,4);\n",
        "  g.addEdge(2,5);\n",
        "  g.addEdge(2,6);\n",
        "\n",
        "  g.parallelBFS(0);\n",
        "  cout<<\"\\n\";\n",
        "  g.parallelDFs(0);\n",
        "  return 0;\n",
        "}"
      ]
    },
    {
      "cell_type": "code",
      "source": [
        "!g++ main.cpp -fopenmp"
      ],
      "metadata": {
        "id": "A_trCIS1I3mh"
      },
      "execution_count": null,
      "outputs": []
    },
    {
      "cell_type": "code",
      "source": [
        "!./a.out"
      ],
      "metadata": {
        "colab": {
          "base_uri": "https://localhost:8080/"
        },
        "id": "l73kibdbJCDH",
        "outputId": "2fe757a1-c1e1-4ad9-9fc5-228f10f6da97"
      },
      "execution_count": null,
      "outputs": [
        {
          "output_type": "stream",
          "name": "stdout",
          "text": [
            "0\t1\t2\t4\t3\t6\t5\t\n",
            "0\t1\t2\t3\t4\t5\t6\t"
          ]
        }
      ]
    },
    {
      "cell_type": "code",
      "source": [
        "\"\"\"# prompt: write what is openmp and its command for parrallelism like in above we used like pragma omp parallel for theroey not write code give more theory for open mp\n",
        "\n",
        "OpenMP (Open Multi-Processing) is an API that supports multi-platform shared-memory multiprocessing programming in C, C++, and Fortran.  It provides a portable, scalable model for developers to express parallelism within their applications.  Instead of relying on complex message-passing paradigms, OpenMP leverages the shared memory architecture of multi-core processors.  This means that multiple threads can access the same memory space, simplifying data sharing and synchronization.\n",
        "\n",
        "Here's a breakdown of key OpenMP concepts and how they relate to parallelism:\n",
        "\n",
        "**1. Shared Memory Model:**\n",
        "\n",
        "OpenMP assumes a shared memory model, where all threads have access to the same memory locations. This simplifies data sharing between threads but requires careful management of race conditions and data dependencies.\n",
        "\n",
        "**2. Fork-Join Parallelism:**\n",
        "\n",
        "OpenMP programs typically execute in a fork-join model.  The master thread starts the program. When a parallel region is encountered, the master thread forks into a team of threads. These threads work concurrently.  After the parallel region, the threads join back to the master thread.  This model provides a structured approach to parallelization.\n",
        "\n",
        "**3. Parallel Regions:**\n",
        "\n",
        "The `#pragma omp parallel` directive defines a parallel region in your code.  Within this region, multiple threads will execute the enclosed code block concurrently.\n",
        "\n",
        "**4. Work-Sharing Constructs:**\n",
        "\n",
        "OpenMP provides several work-sharing constructs to distribute the work among the threads. These include:\n",
        "\n",
        "* `#pragma omp parallel for`: This distributes loop iterations among the threads in the current team.  It's crucial for parallelizing loops. The compiler attempts to divide loop iterations equally among threads.\n",
        "\n",
        "* `#pragma omp parallel sections`: This divides a set of sections among the threads.  Each thread executes one section.  Useful when you have different tasks that can be executed independently.\n",
        "\n",
        "* `#pragma omp single`: Ensures that only one thread executes the enclosed code block within a parallel region.  Useful for operations that should not be performed concurrently, such as printing to the console or updating shared variables in a specific order.\n",
        "\n",
        "\n",
        "**5. Data Environment:**\n",
        "\n",
        "OpenMP allows you to specify how variables are shared or private among threads:\n",
        "\n",
        "* `private`: Each thread has its own copy of the variable. Changes made by one thread don't affect other threads.\n",
        "\n",
        "* `shared`: All threads share the same memory location for the variable.  Changes made by one thread are visible to other threads. This requires careful consideration of race conditions.\n",
        "\n",
        "* `firstprivate`: Like `private`, but the thread's copy is initialized with the value of the variable in the master thread.\n",
        "\n",
        "* `lastprivate`: Similar to `private`, but at the end of the parallel region, the master thread's copy of the variable is updated with the value from the last thread to execute the block.\n",
        "\n",
        "\n",
        "**6. Synchronization:**\n",
        "\n",
        "Synchronization is crucial in OpenMP to manage shared resources.  OpenMP provides various synchronization mechanisms, such as:\n",
        "\n",
        "* `critical`: Only one thread at a time can execute the code within a `critical` section. This is a common way to protect shared variables from race conditions.\n",
        "\n",
        "* `atomic`: Used for atomic updates of shared variables, avoiding the need for a `critical` section in simple cases.\n",
        "\n",
        "* `barrier`: All threads in a team must reach a `barrier` before any thread can continue execution.  This ensures that all threads complete a certain stage of computation before moving to the next.\n",
        "\n",
        "**`#pragma omp parallel for` in detail:**\n",
        "\n",
        "In the provided code, `#pragma omp parallel for` is used to parallelize the loops within the Depth First Search (DFS) and Breadth First Search (BFS) functions.  Each thread in the team processes a portion of the loop iterations, effectively exploring different branches of the graph concurrently. However, there are subtle issues regarding race conditions (modifying the `visited` array) in the example code.  Adding a critical section to protect this shared resource, or using atomic operations (if appropriate), could rectify these issues.\n",
        "\n",
        "The efficiency of `#pragma omp parallel for` depends on the loop structure, data dependencies, and overhead of parallelization.  For loops with high iteration counts and minimal data dependencies, this construct often leads to significant performance gains.  In contrast, tightly coupled loops with dependencies might not benefit from parallelization or may require different synchronization techniques to correctly avoid race conditions.\"\"\"\n",
        "\n"
      ],
      "metadata": {
        "colab": {
          "base_uri": "https://localhost:8080/",
          "height": 105
        },
        "id": "cteBi8YdJcIg",
        "outputId": "cd3c6ccb-c017-4a1c-c222-e3e106d81faf"
      },
      "execution_count": null,
      "outputs": [
        {
          "output_type": "execute_result",
          "data": {
            "text/plain": [
              "\"# prompt: write what is openmp and its command for parrallelism like in above we used like pragma omp parallel for theroey not write code give more theory for open mp\\n\\nOpenMP (Open Multi-Processing) is an API that supports multi-platform shared-memory multiprocessing programming in C, C++, and Fortran.  It provides a portable, scalable model for developers to express parallelism within their applications.  Instead of relying on complex message-passing paradigms, OpenMP leverages the shared memory architecture of multi-core processors.  This means that multiple threads can access the same memory space, simplifying data sharing and synchronization.\\n\\nHere's a breakdown of key OpenMP concepts and how they relate to parallelism:\\n\\n**1. Shared Memory Model:**\\n\\nOpenMP assumes a shared memory model, where all threads have access to the same memory locations. This simplifies data sharing between threads but requires careful management of race conditions and data dependencies.\\n\\n**2. Fork-Join Parallelism:**\\n\\nOpenMP programs typically execute in a fork-join model.  The master thread starts the program. When a parallel region is encountered, the master thread forks into a team of threads. These threads work concurrently.  After the parallel region, the threads join back to the master thread.  This model provides a structured approach to parallelization.\\n\\n**3. Parallel Regions:**\\n\\nThe `#pragma omp parallel` directive defines a parallel region in your code.  Within this region, multiple threads will execute the enclosed code block concurrently.\\n\\n**4. Work-Sharing Constructs:**\\n\\nOpenMP provides several work-sharing constructs to distribute the work among the threads. These include:\\n\\n* `#pragma omp parallel for`: This distributes loop iterations among the threads in the current team.  It's crucial for parallelizing loops. The compiler attempts to divide loop iterations equally among threads.\\n\\n* `#pragma omp parallel sections`: This divides a set of sections among the threads.  Each thread executes one section.  Useful when you have different tasks that can be executed independently.\\n\\n* `#pragma omp single`: Ensures that only one thread executes the enclosed code block within a parallel region.  Useful for operations that should not be performed concurrently, such as printing to the console or updating shared variables in a specific order.\\n\\n\\n**5. Data Environment:**\\n\\nOpenMP allows you to specify how variables are shared or private among threads:\\n\\n* `private`: Each thread has its own copy of the variable. Changes made by one thread don't affect other threads.\\n\\n* `shared`: All threads share the same memory location for the variable.  Changes made by one thread are visible to other threads. This requires careful consideration of race conditions.\\n\\n* `firstprivate`: Like `private`, but the thread's copy is initialized with the value of the variable in the master thread.\\n\\n* `lastprivate`: Similar to `private`, but at the end of the parallel region, the master thread's copy of the variable is updated with the value from the last thread to execute the block.\\n\\n\\n**6. Synchronization:**\\n\\nSynchronization is crucial in OpenMP to manage shared resources.  OpenMP provides various synchronization mechanisms, such as:\\n\\n* `critical`: Only one thread at a time can execute the code within a `critical` section. This is a common way to protect shared variables from race conditions.\\n\\n* `atomic`: Used for atomic updates of shared variables, avoiding the need for a `critical` section in simple cases.\\n\\n* `barrier`: All threads in a team must reach a `barrier` before any thread can continue execution.  This ensures that all threads complete a certain stage of computation before moving to the next.\\n\\n**`#pragma omp parallel for` in detail:**\\n\\nIn the provided code, `#pragma omp parallel for` is used to parallelize the loops within the Depth First Search (DFS) and Breadth First Search (BFS) functions.  Each thread in the team processes a portion of the loop iterations, effectively exploring different branches of the graph concurrently. However, there are subtle issues regarding race conditions (modifying the `visited` array) in the example code.  Adding a critical section to protect this shared resource, or using atomic operations (if appropriate), could rectify these issues.\\n\\nThe efficiency of `#pragma omp parallel for` depends on the loop structure, data dependencies, and overhead of parallelization.  For loops with high iteration counts and minimal data dependencies, this construct often leads to significant performance gains.  In contrast, tightly coupled loops with dependencies might not benefit from parallelization or may require different synchronization techniques to correctly avoid race conditions.\""
            ],
            "application/vnd.google.colaboratory.intrinsic+json": {
              "type": "string"
            }
          },
          "metadata": {},
          "execution_count": 21
        }
      ]
    },
    {
      "cell_type": "code",
      "source": [],
      "metadata": {
        "id": "ZZDRpnY8LdVd"
      },
      "execution_count": null,
      "outputs": []
    }
  ]
}