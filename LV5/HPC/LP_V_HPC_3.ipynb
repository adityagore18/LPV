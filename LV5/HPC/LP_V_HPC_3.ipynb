{
  "nbformat": 4,
  "nbformat_minor": 0,
  "metadata": {
    "colab": {
      "provenance": []
    },
    "kernelspec": {
      "name": "python3",
      "display_name": "Python 3"
    },
    "language_info": {
      "name": "python"
    }
  },
  "cells": [
    {
      "cell_type": "code",
      "execution_count": 20,
      "metadata": {
        "colab": {
          "base_uri": "https://localhost:8080/"
        },
        "id": "vXLaPcQ7oco-",
        "outputId": "767dfdd3-bfd3-40a1-d43f-042d55ec2a15"
      },
      "outputs": [
        {
          "output_type": "stream",
          "name": "stdout",
          "text": [
            "Overwriting main.cpp\n"
          ]
        }
      ],
      "source": [
        "%%writefile main.cpp\n",
        "#include<iostream>\n",
        "#include<omp.h>\n",
        "using namespace std;\n",
        "int minValue(int arr[],int n){\n",
        "  int minval=arr[0];\n",
        "\n",
        "  #pragma omp parallel for reduction(min:minval)\n",
        "  for(int i=0;i<n;i++){\n",
        "    if(arr[i]<minval) minval=arr[i];\n",
        "  }\n",
        "\n",
        "  return minval;\n",
        "}\n",
        "\n",
        "int maxValue(int arr[],int n){\n",
        "  int maxValue=arr[0];\n",
        "\n",
        "  #pragma omp parallel for reduction(max:maxValue)\n",
        "  for(int i=0;i<n;i++){\n",
        "    if(arr[i]>maxValue) maxValue=arr[i];\n",
        "  }\n",
        "\n",
        "  return maxValue;\n",
        "}\n",
        "\n",
        "int sum(int arr[],int n){\n",
        "  int sum=0;\n",
        "\n",
        "  #pragma omp parallel for reduction(+:sum)\n",
        "  for(int i=0;i<n;i++){\n",
        "    sum+=arr[i];\n",
        "  }\n",
        "\n",
        "  return sum;\n",
        "}\n",
        "\n",
        "int avg(int arr[],int n){\n",
        "  return (double)sum(arr,n)/n;\n",
        "}\n",
        "\n",
        "int main(){\n",
        "   int n = 5;                 // Size of array\n",
        "  int arr[] = {1,2,3,4,5};   // Initialize array with sample values\n",
        "\n",
        "  // Display computed statistics\n",
        "  cout << \"The minimum value is: \" << minValue(arr, n) << '\\n';\n",
        "  cout << \"The maximum value is: \" << maxValue(arr, n) << '\\n';\n",
        "  cout << \"The summation is: \" << sum(arr, n) << '\\n';\n",
        "  cout << \"The average is: \" << avg(arr, n) << '\\n';\n",
        "\n",
        "\n",
        "  return 0;\n",
        "\n",
        "}"
      ]
    },
    {
      "cell_type": "code",
      "source": [
        "!g++ -fopenmp main.cpp"
      ],
      "metadata": {
        "id": "zJg7Z4Ntqo7K"
      },
      "execution_count": 21,
      "outputs": []
    },
    {
      "cell_type": "code",
      "source": [
        "!./a.out"
      ],
      "metadata": {
        "colab": {
          "base_uri": "https://localhost:8080/"
        },
        "id": "o5j0fG17qrhk",
        "outputId": "7d7fe12f-ec92-47af-8b42-2809c9fc4083"
      },
      "execution_count": 22,
      "outputs": [
        {
          "output_type": "stream",
          "name": "stdout",
          "text": [
            "The minimum value is: 1\n",
            "The maximum value is: 5\n",
            "The summation is: 15\n",
            "The average is: 3\n"
          ]
        }
      ]
    },
    {
      "cell_type": "code",
      "source": [
        "\"\"\"\n",
        "# prompt: how exactly above code work how parllel ism happen\n",
        "\n",
        "The provided C++ code uses OpenMP to parallelize the computation of minimum, maximum, sum, and average of an array. Let's break down how the parallelization works, focusing on the `#pragma omp parallel for` directive and the `reduction` clause.\n",
        "\n",
        "**1. `#pragma omp parallel for`:**\n",
        "\n",
        "This directive instructs the OpenMP compiler to parallelize the subsequent loop (the `for` loop in each function).  Instead of executing the loop iterations sequentially, multiple threads will execute different iterations concurrently. The number of threads used is typically determined by the environment variable `OMP_NUM_THREADS`, or a runtime function call, but defaults to the number of cores available on the system.\n",
        "\n",
        "**2. `reduction(operator:variable)`:**\n",
        "\n",
        "The `reduction` clause is crucial for correctly handling shared variables within a parallel loop.  Without it, multiple threads would try to update the same variable (`minval`, `maxValue`, or `sum`) simultaneously, leading to race conditions and incorrect results.  The `reduction` clause ensures that each thread operates on a private copy of the variable and then, at the end of the parallel region, the results are combined using the specified `operator`.\n",
        "\n",
        "* **`reduction(min:minval)` in `minValue()`:** Each thread maintains its own private copy of `minval`.  As it iterates, it updates its private copy if a smaller element is found. After all threads finish, the overall minimum is determined by comparing the private copies, using the `min` operator.\n",
        "* **`reduction(max:maxValue)` in `maxValue()`:** Similar to `minValue()`, each thread has a private copy of `maxValue`. The final `maxValue` is the maximum among all the private copies.\n",
        "* **`reduction(+:sum)` in `sum()`:** Each thread computes a partial sum of its assigned elements. The `reduction(+:sum)` combines these partial sums using addition (`+`) to calculate the final total sum.\n",
        "\n",
        "**How Parallelism Happens (Example with `sum()`):**\n",
        "\n",
        "1. **Thread Creation:**  OpenMP creates a team of threads.\n",
        "2. **Loop Distribution:** The `for` loop iterations are divided among these threads.  For instance, if there are 4 threads and 100 iterations, each thread might process roughly 25 iterations.\n",
        "3. **Private `sum` Copies:** Each thread has its own private variable `sum` initialized to 0.\n",
        "4. **Partial Summation:**  Each thread independently adds elements of the array segment it has been assigned to its private `sum`.\n",
        "5. **Reduction Operation:**  When a thread completes its assigned iterations, the private `sum`s are combined using the `+` operator (e.g. 25 + 25 + 25 + 25 for our example). The final `sum` is then the sum of all these private sums.\n",
        "\n",
        "**In summary:** OpenMP uses multiple threads to execute different parts of the loop simultaneously. The `reduction` clause synchronizes access to shared variables, preventing data corruption, and ensures that the final value of the shared variable correctly reflects the combined results of all the threads.  The threads run in parallel on multiple cores of the processor, significantly speeding up the computation for larger arrays.\n",
        "\n",
        "\n",
        "The provided code compiles and executes correctly because it uses OpenMP, and the necessary include and compiler flags are used.  The output will reflect the minimum, maximum, sum, and average values of the input array, calculated efficiently by leveraging parallelism.\"\"\"\n"
      ],
      "metadata": {
        "colab": {
          "base_uri": "https://localhost:8080/",
          "height": 105
        },
        "id": "d9502UswrKAE",
        "outputId": "3494067e-798b-4182-9acf-6ab5c7714503"
      },
      "execution_count": 15,
      "outputs": [
        {
          "output_type": "execute_result",
          "data": {
            "text/plain": [
              "\"\\n# prompt: how exactly above code work how parllel ism happen\\n\\nThe provided C++ code uses OpenMP to parallelize the computation of minimum, maximum, sum, and average of an array. Let's break down how the parallelization works, focusing on the `#pragma omp parallel for` directive and the `reduction` clause.\\n\\n**1. `#pragma omp parallel for`:**\\n\\nThis directive instructs the OpenMP compiler to parallelize the subsequent loop (the `for` loop in each function).  Instead of executing the loop iterations sequentially, multiple threads will execute different iterations concurrently. The number of threads used is typically determined by the environment variable `OMP_NUM_THREADS`, or a runtime function call, but defaults to the number of cores available on the system.\\n\\n**2. `reduction(operator:variable)`:**\\n\\nThe `reduction` clause is crucial for correctly handling shared variables within a parallel loop.  Without it, multiple threads would try to update the same variable (`minval`, `maxValue`, or `sum`) simultaneously, leading to race conditions and incorrect results.  The `reduction` clause ensures that each thread operates on a private copy of the variable and then, at the end of the parallel region, the results are combined using the specified `operator`.\\n\\n* **`reduction(min:minval)` in `minValue()`:** Each thread maintains its own private copy of `minval`.  As it iterates, it updates its private copy if a smaller element is found. After all threads finish, the overall minimum is determined by comparing the private copies, using the `min` operator.\\n* **`reduction(max:maxValue)` in `maxValue()`:** Similar to `minValue()`, each thread has a private copy of `maxValue`. The final `maxValue` is the maximum among all the private copies.\\n* **`reduction(+:sum)` in `sum()`:** Each thread computes a partial sum of its assigned elements. The `reduction(+:sum)` combines these partial sums using addition (`+`) to calculate the final total sum.\\n\\n**How Parallelism Happens (Example with `sum()`):**\\n\\n1. **Thread Creation:**  OpenMP creates a team of threads.\\n2. **Loop Distribution:** The `for` loop iterations are divided among these threads.  For instance, if there are 4 threads and 100 iterations, each thread might process roughly 25 iterations.\\n3. **Private `sum` Copies:** Each thread has its own private variable `sum` initialized to 0.  \\n4. **Partial Summation:**  Each thread independently adds elements of the array segment it has been assigned to its private `sum`.\\n5. **Reduction Operation:**  When a thread completes its assigned iterations, the private `sum`s are combined using the `+` operator (e.g. 25 + 25 + 25 + 25 for our example). The final `sum` is then the sum of all these private sums.\\n\\n**In summary:** OpenMP uses multiple threads to execute different parts of the loop simultaneously. The `reduction` clause synchronizes access to shared variables, preventing data corruption, and ensures that the final value of the shared variable correctly reflects the combined results of all the threads.  The threads run in parallel on multiple cores of the processor, significantly speeding up the computation for larger arrays.\\n\\n\\nThe provided code compiles and executes correctly because it uses OpenMP, and the necessary include and compiler flags are used.  The output will reflect the minimum, maximum, sum, and average values of the input array, calculated efficiently by leveraging parallelism.\""
            ],
            "application/vnd.google.colaboratory.intrinsic+json": {
              "type": "string"
            }
          },
          "metadata": {},
          "execution_count": 15
        }
      ]
    },
    {
      "cell_type": "code",
      "source": [],
      "metadata": {
        "id": "niLm7jZOuZmS"
      },
      "execution_count": null,
      "outputs": []
    }
  ]
}