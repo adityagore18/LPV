{
  "nbformat": 4,
  "nbformat_minor": 0,
  "metadata": {
    "colab": {
      "provenance": []
    },
    "kernelspec": {
      "name": "python3",
      "display_name": "Python 3"
    },
    "language_info": {
      "name": "python"
    }
  },
  "cells": [
    {
      "cell_type": "code",
      "execution_count": null,
      "metadata": {
        "colab": {
          "base_uri": "https://localhost:8080/"
        },
        "id": "kurAu_OiLl9B",
        "outputId": "37e8a146-bb52-4a0e-b738-0b50d75863db"
      },
      "outputs": [
        {
          "output_type": "stream",
          "name": "stdout",
          "text": [
            "Overwriting main.cpp\n"
          ]
        }
      ],
      "source": [
        "%%writefile main.cpp\n",
        "#include<iostream>\n",
        "#include<omp.h>\n",
        "\n",
        "using namespace std;\n",
        "void buubleSort(int arr[],int n){\n",
        "    for(int i=0;i<n;i++){\n",
        "      for(int j=0;j<n-1;j++){\n",
        "        if(arr[j]>arr[j+1]){\n",
        "          int temp=arr[j];\n",
        "          arr[j]=arr[j+1];\n",
        "          arr[j+1]=temp;\n",
        "        }\n",
        "      }\n",
        "    }\n",
        "}\n",
        "\n",
        "void parrallelBubbleSort(int arr[],int n){\n",
        "     for(int i=0;i<n;i++){\n",
        "        #pragma omp parallel\n",
        "        {\n",
        "          #pragma omp for\n",
        "          for(int j=1;j<n-1;j+=2){\n",
        "            if(arr[j]>arr[j+1]){\n",
        "              swap(arr[j],arr[j+1]);\n",
        "            }\n",
        "          }\n",
        "\n",
        "          #pragma omp barrier\n",
        "\n",
        "          #pragma omp for\n",
        "          for(int j=0;j<n-1;j+=2){\n",
        "            if(arr[j]>arr[j+1]){\n",
        "              swap(arr[j],arr[j+1]);\n",
        "            }\n",
        "          }\n",
        "        }\n",
        "     }\n",
        "}\n",
        "\n",
        "void display(int arr[],int n){\n",
        "  for(int i=0;i<n;i++){\n",
        "    cout<<arr[i]<<\" \";\n",
        "  }\n",
        "  cout<<endl;\n",
        "}\n",
        "int main(){\n",
        "   int arr[]={3,4,1,5,2,16,8,9};\n",
        "   int n=8;\n",
        "   int arr2[]={3,4,1,5,2,16,8,9};\n",
        "   int n2=8;\n",
        "\n",
        "   double start_time, end_time;\n",
        "   display(arr,n);\n",
        "\n",
        "   start_time = omp_get_wtime();\n",
        "   parrallelBubbleSort(arr,n);\n",
        "   end_time = omp_get_wtime();\n",
        "   cout << \"Time taken in parallel algorithm: \" << end_time - start_time << \" seconds\" << endl;\n",
        "   display(arr,n);\n",
        "\n",
        "   start_time=omp_get_wtime();\n",
        "   buubleSort(arr2,n2);\n",
        "   end_time=omp_get_wtime();\n",
        "   cout << \"Time taken in serial algorithm: \" << end_time - start_time << \" seconds\" << endl;\n",
        "\n",
        "\n",
        "   display(arr2,n2);\n",
        "   return 0;\n",
        "\n",
        "}"
      ]
    },
    {
      "cell_type": "code",
      "source": [
        "!g++ -fopenmp main.cpp"
      ],
      "metadata": {
        "id": "ndKR4lZ9M3uQ"
      },
      "execution_count": null,
      "outputs": []
    },
    {
      "cell_type": "code",
      "source": [
        "!./a.out"
      ],
      "metadata": {
        "colab": {
          "base_uri": "https://localhost:8080/"
        },
        "id": "Lv0U-mcEND0C",
        "outputId": "c0e84420-8b19-43b0-d261-bf1962faf4b9"
      },
      "execution_count": null,
      "outputs": [
        {
          "output_type": "stream",
          "name": "stdout",
          "text": [
            "3 4 1 5 2 16 8 9 \n",
            "Time taken in parallel algorithm: 0.171429 seconds\n",
            "1 2 3 4 5 8 9 16 \n",
            "Time taken in serial algorithm: 5.56e-07 seconds\n",
            "1 2 3 4 5 8 9 16 \n"
          ]
        }
      ]
    },
    {
      "cell_type": "code",
      "source": [],
      "metadata": {
        "id": "JHShisNJNJyz"
      },
      "execution_count": null,
      "outputs": []
    }
  ]
}